{
  "nbformat": 4,
  "nbformat_minor": 0,
  "metadata": {
    "colab": {
      "name": "Error Analysis - Incongruity.ipynb",
      "provenance": []
    },
    "kernelspec": {
      "name": "python3",
      "display_name": "Python 3"
    },
    "language_info": {
      "name": "python"
    }
  },
  "cells": [
    {
      "cell_type": "code",
      "metadata": {
        "id": "JhI9k6kQF7gt"
      },
      "source": [
        "import pandas as pd\n",
        "\n",
        "dt = pd.read_csv('sv2_prediction_results1_1.csv')\n",
        "df = pd.DataFrame(dt)\n",
        "\n",
        "df[\"error\"] = df [\"prediction\"] - df[\"meanGrade\"]\n",
        "\n",
        "df.to_csv(\"error_results.csv\", index=False)\n",
        "\n"
      ],
      "execution_count": 1,
      "outputs": []
    }
  ]
}
