{
  "nbformat": 4,
  "nbformat_minor": 0,
  "metadata": {
    "colab": {
      "name": "CMPUT501-ML-Task 1-GloVe-t1.ipynb",
      "provenance": [],
      "collapsed_sections": []
    },
    "kernelspec": {
      "display_name": "Python 3",
      "name": "python3"
    },
    "language_info": {
      "name": "python"
    }
  },
  "cells": [
    {
      "cell_type": "markdown",
      "metadata": {
        "id": "OGYA1iu2t8tA"
      },
      "source": [
        "# **CMPUT 501 Project**"
      ]
    },
    {
      "cell_type": "markdown",
      "metadata": {
        "id": "fppI1EWKuCvL"
      },
      "source": [
        "##ML Approach - Task 1"
      ]
    },
    {
      "cell_type": "markdown",
      "metadata": {
        "id": "DR57hNxEzl7c"
      },
      "source": [
        "Load modules"
      ]
    },
    {
      "cell_type": "code",
      "metadata": {
        "id": "NIoEPI4ZuGmp"
      },
      "source": [
        "from collections import Counter\n",
        "import re\n",
        "import time\n",
        "\n",
        "import pandas as pd\n",
        "import numpy as np\n",
        "import matplotlib.pyplot as plt\n",
        "\n",
        "import gensim\n",
        "import gensim.downloader as api\n",
        "\n",
        "import nltk\n",
        "from nltk.corpus import stopwords\n",
        "from nltk import word_tokenize\n",
        "\n",
        "from scipy.stats import describe\n",
        "import seaborn as sns\n",
        "\n",
        "from sklearn.linear_model import LinearRegression, LogisticRegression\n",
        "from sklearn.ensemble import RandomForestRegressor\n",
        "from sklearn.svm import LinearSVR, NuSVR, SVR\n",
        "from sklearn.tree import DecisionTreeRegressor\n",
        "from sklearn.neighbors import KNeighborsRegressor\n",
        "    \n",
        "from sklearn.metrics import mean_squared_error\n",
        "\n",
        "import warnings\n",
        "warnings.filterwarnings(\"ignore\")\n",
        "\n",
        "# Set theme of seaborn \n",
        "sns.set()\n"
      ],
      "execution_count": 1,
      "outputs": []
    },
    {
      "cell_type": "markdown",
      "metadata": {
        "id": "e1NdHTO2z_ij"
      },
      "source": [
        "Load data"
      ]
    },
    {
      "cell_type": "code",
      "metadata": {
        "id": "J2tyGjd9zoTa"
      },
      "source": [
        "#upload files named \"train.csv\" \"dev.csv\" \"test.csv\" from data folder in the current runtime, by clicking the file icon on the left\n",
        "#and uploading to session storage\n",
        "train_df = pd.read_csv(\"train.csv\", dtype=str)\n",
        "dev_df = pd.read_csv(\"dev.csv\", dtype=str)\n",
        "test_df = pd.read_csv(\"test.csv\", dtype=str)\n",
        "#for development\n",
        "test_df = dev_df.copy()"
      ],
      "execution_count": 2,
      "outputs": []
    },
    {
      "cell_type": "markdown",
      "metadata": {
        "id": "WtdqgbvFzn3G"
      },
      "source": [
        "Scoring function to claculate RMSE"
      ]
    },
    {
      "cell_type": "code",
      "metadata": {
        "id": "jw5z76Tb0DWZ"
      },
      "source": [
        "def rmse(y_true, y_pred):\n",
        "    return np.sqrt(mean_squared_error(y_true, y_pred))"
      ],
      "execution_count": 3,
      "outputs": []
    },
    {
      "cell_type": "markdown",
      "metadata": {
        "id": "fuScnvSa1pVv"
      },
      "source": [
        "Baseline"
      ]
    },
    {
      "cell_type": "code",
      "metadata": {
        "colab": {
          "base_uri": "https://localhost:8080/"
        },
        "id": "1gSjao3L1sxZ",
        "outputId": "9e6bae02-1b84-49cd-9bef-e744cf78fd58"
      },
      "source": [
        "y_train = train_df[\"meanGrade\"].astype(float)\n",
        "y_test = test_df[\"meanGrade\"].astype(float)\n",
        "\n",
        "#Turn meanGrade into into an integer for other functions needed later\n",
        "y_train_int = y_train.astype(float) * 10\n",
        "y_train_int = y_train_int.astype(int)\n",
        "\n",
        "meanGrade = np.mean(y_train)\n",
        "baseline_rmse = rmse(y_test,[meanGrade] * len(y_test))\n",
        "\n",
        "baseline_rmse\n"
      ],
      "execution_count": 4,
      "outputs": [
        {
          "output_type": "execute_result",
          "data": {
            "text/plain": [
              "0.5783998503042385"
            ]
          },
          "metadata": {},
          "execution_count": 4
        }
      ]
    },
    {
      "cell_type": "markdown",
      "metadata": {
        "id": "nqrheszS2BY8"
      },
      "source": [
        "Feature Engineering"
      ]
    },
    {
      "cell_type": "code",
      "metadata": {
        "colab": {
          "base_uri": "https://localhost:8080/"
        },
        "id": "8cOKOwKW2FFA",
        "outputId": "1640df7c-721f-4448-f472-6240b36357f4"
      },
      "source": [
        "#Remove < and /> from original headline and create a new headline using the edited word\n",
        "train_df[\"new\"] = train_df.apply(\n",
        "    lambda x: re.sub(r\"<.+/>\", x[\"edit\"], x[\"original\"]), axis=1\n",
        ")\n",
        "train_df[\"original\"] = train_df[\"original\"].str.replace(r\"<(.+)/>\", \"\\g<1>\")\n",
        "\n",
        "test_df[\"new\"] = test_df.apply(\n",
        "    lambda x: re.sub(r\"<.+/>\", x[\"edit\"], x[\"original\"]), axis=1\n",
        ")\n",
        "test_df[\"original\"] = test_df[\"original\"].str.replace(r\"<(.+)/>\", \"\\g<1>\")\n",
        "\n",
        "#Load stopwords\n",
        "nltk.download('stopwords')\n",
        "stop_words = set(stopwords.words(\"english\"))"
      ],
      "execution_count": 5,
      "outputs": [
        {
          "output_type": "stream",
          "name": "stdout",
          "text": [
            "[nltk_data] Downloading package stopwords to /root/nltk_data...\n",
            "[nltk_data]   Unzipping corpora/stopwords.zip.\n"
          ]
        }
      ]
    },
    {
      "cell_type": "markdown",
      "metadata": {
        "id": "xAyHkl4E2WK3"
      },
      "source": [
        "Word Embedding"
      ]
    },
    {
      "cell_type": "code",
      "metadata": {
        "colab": {
          "base_uri": "https://localhost:8080/"
        },
        "id": "1CLVyByx2o5n",
        "outputId": "c7fb473a-0b4b-43f1-acbb-80f1594e9a49"
      },
      "source": [
        "#The below step requires some time, downloads 822.24 MB\n",
        "\n",
        "# we would use standford's GloVe pre-trained word embeddings\n",
        "\n",
        "# download the GloVe word embeddings\n",
        "!wget http://nlp.stanford.edu/data/glove.6B.zip"
      ],
      "execution_count": 6,
      "outputs": [
        {
          "output_type": "stream",
          "name": "stdout",
          "text": [
            "--2021-12-08 06:27:20--  http://nlp.stanford.edu/data/glove.6B.zip\n",
            "Resolving nlp.stanford.edu (nlp.stanford.edu)... 171.64.67.140\n",
            "Connecting to nlp.stanford.edu (nlp.stanford.edu)|171.64.67.140|:80... connected.\n",
            "HTTP request sent, awaiting response... 302 Found\n",
            "Location: https://nlp.stanford.edu/data/glove.6B.zip [following]\n",
            "--2021-12-08 06:27:20--  https://nlp.stanford.edu/data/glove.6B.zip\n",
            "Connecting to nlp.stanford.edu (nlp.stanford.edu)|171.64.67.140|:443... connected.\n",
            "HTTP request sent, awaiting response... 301 Moved Permanently\n",
            "Location: http://downloads.cs.stanford.edu/nlp/data/glove.6B.zip [following]\n",
            "--2021-12-08 06:27:20--  http://downloads.cs.stanford.edu/nlp/data/glove.6B.zip\n",
            "Resolving downloads.cs.stanford.edu (downloads.cs.stanford.edu)... 171.64.64.22\n",
            "Connecting to downloads.cs.stanford.edu (downloads.cs.stanford.edu)|171.64.64.22|:80... connected.\n",
            "HTTP request sent, awaiting response... 200 OK\n",
            "Length: 862182613 (822M) [application/zip]\n",
            "Saving to: ‘glove.6B.zip’\n",
            "\n",
            "glove.6B.zip        100%[===================>] 822.24M  3.53MB/s    in 19m 20s \n",
            "\n",
            "2021-12-08 06:51:03 (726 KB/s) - ‘glove.6B.zip’ saved [862182613/862182613]\n",
            "\n"
          ]
        }
      ]
    },
    {
      "cell_type": "code",
      "metadata": {
        "colab": {
          "base_uri": "https://localhost:8080/"
        },
        "id": "kFtF0k2kbEAA",
        "outputId": "1fafc742-2bf0-4fca-e94f-13b0f9c7a1a1"
      },
      "source": [
        "!unzip glove.6B.zip"
      ],
      "execution_count": 7,
      "outputs": [
        {
          "output_type": "stream",
          "name": "stdout",
          "text": [
            "Archive:  glove.6B.zip\n",
            "  inflating: glove.6B.50d.txt        \n",
            "  inflating: glove.6B.100d.txt       \n",
            "  inflating: glove.6B.200d.txt       \n",
            "  inflating: glove.6B.300d.txt       \n"
          ]
        }
      ]
    },
    {
      "cell_type": "code",
      "metadata": {
        "colab": {
          "base_uri": "https://localhost:8080/"
        },
        "id": "EjpZARIPbJ6x",
        "outputId": "8e9d9792-0f57-4621-baea-7719326c0a17"
      },
      "source": [
        "from gensim.scripts.glove2word2vec import glove2word2vec\n",
        "glove_input_file = 'glove.6B.100d.txt'\n",
        "word2vec_output_file = 'word2vec.txt'\n",
        "\n",
        "glove2word2vec(glove_input_file, word2vec_output_file)"
      ],
      "execution_count": 8,
      "outputs": [
        {
          "output_type": "execute_result",
          "data": {
            "text/plain": [
              "(400000, 100)"
            ]
          },
          "metadata": {},
          "execution_count": 8
        }
      ]
    },
    {
      "cell_type": "code",
      "metadata": {
        "id": "V29NHVdDcAb4"
      },
      "source": [
        "from gensim.models import KeyedVectors\n",
        "model = KeyedVectors.load_word2vec_format(word2vec_output_file, binary = False)"
      ],
      "execution_count": 9,
      "outputs": []
    },
    {
      "cell_type": "code",
      "metadata": {
        "id": "8J4Qu7uk3G2l"
      },
      "source": [
        "def document_vector(word2vec_model, doc):\n",
        "    # remove out-of-vocabulary words\n",
        "    doc = [word for word in doc if word in model.vocab]\n",
        "    return np.mean(model[doc], axis=0)\n",
        "\n",
        "def preprocess(text):\n",
        "    # Lowercase and Tokenize\n",
        "    doc = word_tokenize(text.lower())\n",
        "    # Remove Stop Words\n",
        "    doc = [word for word in doc if word not in stop_words]\n",
        "    # Remove non-alphabet tokens\n",
        "    doc = [word for word in doc if word.isalpha()]\n",
        "    return doc\n",
        "\n",
        "def to_vector(df, column):\n",
        "    headlines = df[column].tolist()\n",
        "    corpus = [preprocess(title) for title in headlines]\n",
        "    X = []\n",
        "    # append the vector for each document\n",
        "    for doc in corpus:  \n",
        "        vector = document_vector(model, doc)\n",
        "        X.append(vector)\n",
        "    return np.array(X)"
      ],
      "execution_count": 10,
      "outputs": []
    },
    {
      "cell_type": "code",
      "metadata": {
        "colab": {
          "base_uri": "https://localhost:8080/"
        },
        "id": "ZiLjAdO63Mbg",
        "outputId": "30044025-57ba-4eac-8685-6fa69955de92"
      },
      "source": [
        "nltk.download('punkt')\n",
        "X_train_orig = to_vector(train_df, \"original\")\n",
        "X_train_new = to_vector(train_df, \"new\")\n",
        "X_test_orig = to_vector(test_df, \"original\")\n",
        "X_test_new = to_vector(test_df, \"new\")\n",
        "\n",
        "#Check to make sure that the sizes match\n",
        "assert len(X_train_orig) == len(X_train_new) == len(train_df)\n",
        "assert len(X_test_orig) == len(X_test_new) == len(test_df) \n",
        "\n",
        "#Combine the vectors from the original and edited headline\n",
        "X_train = [\n",
        "    np.concatenate((X_train_orig[c], X_train_new[c]), axis=None)\n",
        "    for c in range(len(X_train_orig))\n",
        "]\n",
        "X_test = [\n",
        "    np.concatenate((X_test_orig[c], X_test_new[c]), axis=None)\n",
        "    for c in range(len(X_test_orig))\n",
        "]\n"
      ],
      "execution_count": 11,
      "outputs": [
        {
          "output_type": "stream",
          "name": "stdout",
          "text": [
            "[nltk_data] Downloading package punkt to /root/nltk_data...\n",
            "[nltk_data]   Unzipping tokenizers/punkt.zip.\n"
          ]
        }
      ]
    },
    {
      "cell_type": "markdown",
      "metadata": {
        "id": "9NZmytKy3mBr"
      },
      "source": [
        "Utility Function"
      ]
    },
    {
      "cell_type": "code",
      "metadata": {
        "id": "eNMqR3vX3mzs"
      },
      "source": [
        "#Function to round the predictions to nearest even decimal since that is the form of the train set\n",
        "def roundPred(predictions):\n",
        "    final_predictions = []\n",
        "    for val in predictions:\n",
        "        val = int(val * 10)\n",
        "        final_predictions.append(val / 10)\n",
        "    return final_predictions"
      ],
      "execution_count": 12,
      "outputs": []
    },
    {
      "cell_type": "markdown",
      "metadata": {
        "id": "qX7nFMap4yk2"
      },
      "source": [
        "Models"
      ]
    },
    {
      "cell_type": "code",
      "metadata": {
        "id": "RnpvsBBW41Hi"
      },
      "source": [
        "#Store model results\n",
        "model_results = {}\n",
        "#Add baseline\n",
        "model_results[\"BASELINE\"] = baseline_rmse"
      ],
      "execution_count": 13,
      "outputs": []
    },
    {
      "cell_type": "markdown",
      "metadata": {
        "id": "JS33EPsQ5JGs"
      },
      "source": [
        "Logistic Regression"
      ]
    },
    {
      "cell_type": "code",
      "metadata": {
        "colab": {
          "base_uri": "https://localhost:8080/"
        },
        "id": "kKtQ4GuT5OCg",
        "outputId": "4be5490f-03ce-49a8-af39-be08cbb4e67e"
      },
      "source": [
        "log_reg = LogisticRegression(n_jobs=-1, verbose=1, random_state=42)\n",
        "log_reg.fit(X_train, y_train_int)\n",
        "\n",
        "predictions = roundPred(log_reg.predict(X_test)/10)\n",
        "\n",
        "res = test_df\n",
        "res[\"prediction\"] = predictions\n",
        "res.to_csv(\"log_reg_prediction_results2_1.csv\")\n",
        "\n",
        "log_reg_rmse = rmse(test_df[\"meanGrade\"], np.array(predictions) / 10)\n",
        "\n",
        "print(log_reg_rmse)\n",
        "\n",
        "model_results[\"Logistic Regression\"] = log_reg_rmse"
      ],
      "execution_count": 14,
      "outputs": [
        {
          "output_type": "stream",
          "name": "stderr",
          "text": [
            "[Parallel(n_jobs=-1)]: Using backend LokyBackend with 2 concurrent workers.\n"
          ]
        },
        {
          "output_type": "stream",
          "name": "stdout",
          "text": [
            "1.0282532940425642\n"
          ]
        },
        {
          "output_type": "stream",
          "name": "stderr",
          "text": [
            "[Parallel(n_jobs=-1)]: Done   1 out of   1 | elapsed:    6.2s finished\n"
          ]
        }
      ]
    },
    {
      "cell_type": "markdown",
      "metadata": {
        "id": "y38PKEF059nL"
      },
      "source": [
        "SVM"
      ]
    },
    {
      "cell_type": "code",
      "metadata": {
        "id": "5MCeTLTt5-sj",
        "colab": {
          "base_uri": "https://localhost:8080/"
        },
        "outputId": "e0c581a6-9aed-48eb-d6a4-2041ae72d25e"
      },
      "source": [
        "#Linear SVR\n",
        "lin_svr = LinearSVR(random_state=42)\n",
        "lin_svr.fit(X_train, y_train)\n",
        "\n",
        "predictions = roundPred(lin_svr.predict(X_test))\n",
        "\n",
        "res = test_df\n",
        "res[\"prediction\"] = predictions\n",
        "res.to_csv(\"sv1_prediction_results2_1.csv\")\n",
        "\n",
        "lin_svr_rmse = rmse(y_test, predictions)\n",
        "\n",
        "print(lin_svr_rmse)\n",
        "\n",
        "model_results[\"Linear SVR\"] = lin_svr_rmse\n",
        "\n",
        "#NuSVR\n",
        "nu_svr = NuSVR()\n",
        "nu_svr.fit(X_train, y_train)\n",
        "\n",
        "predictions = roundPred(nu_svr.predict(X_test))\n",
        "\n",
        "res = test_df\n",
        "res[\"prediction\"] = predictions\n",
        "res.to_csv(\"sv2_prediction_results2_1.csv\")\n",
        "\n",
        "nu_svr_rmse = rmse(y_test, predictions)\n",
        "\n",
        "print(nu_svr_rmse)\n",
        "\n",
        "model_results[\"NuSVR\"] = nu_svr_rmse\n",
        "\n",
        "#SVR\n",
        "svr = SVR() \n",
        "svr.fit(X_train, y_train)\n",
        "\n",
        "predictions = roundPred(svr.predict(X_test))\n",
        "\n",
        "res = test_df\n",
        "res[\"prediction\"] = predictions\n",
        "res.to_csv(\"sv3_prediction_results2_1.csv\")\n",
        "\n",
        "svr_rmse = rmse(y_test, predictions)\n",
        "\n",
        "print(svr_rmse)\n",
        "\n",
        "model_results[\"Epsilon SVR\"] = svr_rmse"
      ],
      "execution_count": 15,
      "outputs": [
        {
          "output_type": "stream",
          "name": "stdout",
          "text": [
            "0.5696361334345479\n",
            "0.5589587555898909\n",
            "0.5645039747378512\n"
          ]
        }
      ]
    },
    {
      "cell_type": "markdown",
      "metadata": {
        "id": "YjHvXznW5F4E"
      },
      "source": [
        "KNN"
      ]
    },
    {
      "cell_type": "code",
      "metadata": {
        "id": "_-Dfntqj5IiK",
        "colab": {
          "base_uri": "https://localhost:8080/"
        },
        "outputId": "46e34912-1768-479f-d68b-5b73047b78cb"
      },
      "source": [
        "knn = KNeighborsRegressor()\n",
        "knn.fit(X_train, y_train)\n",
        "\n",
        "predictions = roundPred(knn.predict(X_test))\n",
        "\n",
        "res = test_df\n",
        "res[\"prediction\"] = predictions\n",
        "res.to_csv(\"knn_prediction_results2_1.csv\")\n",
        "\n",
        "knn_rmse = rmse(test_df[\"meanGrade\"], np.array(predictions))\n",
        "\n",
        "print(knn_rmse)\n",
        "\n",
        "model_results[\"K-Nearest Neighbors\"] = knn_rmse"
      ],
      "execution_count": 16,
      "outputs": [
        {
          "output_type": "stream",
          "name": "stdout",
          "text": [
            "0.6321253610605315\n"
          ]
        }
      ]
    },
    {
      "cell_type": "markdown",
      "metadata": {
        "id": "NYwxWE_L6Do9"
      },
      "source": [
        "Linear Regression"
      ]
    },
    {
      "cell_type": "code",
      "metadata": {
        "id": "MVJvkJ0M6F3y",
        "colab": {
          "base_uri": "https://localhost:8080/"
        },
        "outputId": "3f3f24b7-1467-455e-c7f5-532857390b09"
      },
      "source": [
        "lin_reg = LinearRegression()\n",
        "lin_reg.fit(X_train, y_train)\n",
        "\n",
        "predictions = roundPred(lin_reg.predict(X_test))\n",
        "\n",
        "res = test_df\n",
        "res[\"prediction\"] = predictions\n",
        "res.to_csv(\"lin_reg_prediction_results2_1.csv\")\n",
        "\n",
        "lin_reg_rmse = rmse(y_test, predictions)\n",
        "\n",
        "print(lin_reg_rmse)\n",
        "\n",
        "model_results[\"Linear Regression\"] = lin_reg_rmse"
      ],
      "execution_count": 17,
      "outputs": [
        {
          "output_type": "stream",
          "name": "stdout",
          "text": [
            "0.5618430663918385\n"
          ]
        }
      ]
    },
    {
      "cell_type": "markdown",
      "metadata": {
        "id": "siaYyEjaEA8S"
      },
      "source": [
        "Decision Tree Regressor"
      ]
    },
    {
      "cell_type": "code",
      "metadata": {
        "id": "iFq9tHPeEEDj",
        "colab": {
          "base_uri": "https://localhost:8080/"
        },
        "outputId": "2175a2e0-c6b7-4b4f-d03e-a49b4aec3fcd"
      },
      "source": [
        "dt_reg = DecisionTreeRegressor(random_state=0)\n",
        "dt_reg.fit(X_train, y_train)\n",
        "\n",
        "predictions = roundPred(dt_reg.predict(X_test))\n",
        "\n",
        "res = test_df\n",
        "res[\"prediction\"] = predictions\n",
        "res.to_csv(\"dt_reg_prediction_results2_1.csv\")\n",
        "\n",
        "dt_reg_rmse = rmse(test_df[\"meanGrade\"], np.array(predictions))\n",
        "\n",
        "print(dt_reg_rmse)\n",
        "\n",
        "model_results[\"Decision Tree\"] = dt_reg_rmse"
      ],
      "execution_count": 18,
      "outputs": [
        {
          "output_type": "stream",
          "name": "stdout",
          "text": [
            "0.807982600429065\n"
          ]
        }
      ]
    },
    {
      "cell_type": "markdown",
      "metadata": {
        "id": "wTvX6_Uu6GjT"
      },
      "source": [
        "Random Forest Regressor"
      ]
    },
    {
      "cell_type": "code",
      "metadata": {
        "id": "-o8Nn9g26Wy3",
        "colab": {
          "base_uri": "https://localhost:8080/"
        },
        "outputId": "c010f2fe-0f91-4060-baec-4149483a9ab1"
      },
      "source": [
        "rf_reg = RandomForestRegressor(n_estimators=10, n_jobs=-1, verbose=1, random_state=42)\n",
        "rf_reg.fit(X_train, y_train)\n",
        "\n",
        "predictions = roundPred(rf_reg.predict(X_test))\n",
        "\n",
        "res = test_df\n",
        "res[\"prediction\"] = predictions\n",
        "res.to_csv(\"rf_reg_prediction_results2_1.csv\")\n",
        "\n",
        "rf_rmse = rmse(test_df[\"meanGrade\"], predictions)\n",
        "\n",
        "print(rf_rmse)\n",
        "\n",
        "model_results[\"Random Forest\"] = rf_rmse"
      ],
      "execution_count": 19,
      "outputs": [
        {
          "output_type": "stream",
          "name": "stderr",
          "text": [
            "[Parallel(n_jobs=-1)]: Using backend ThreadingBackend with 2 concurrent workers.\n"
          ]
        },
        {
          "output_type": "stream",
          "name": "stdout",
          "text": [
            "0.598627339854685\n"
          ]
        },
        {
          "output_type": "stream",
          "name": "stderr",
          "text": [
            "[Parallel(n_jobs=-1)]: Done  10 out of  10 | elapsed:   11.9s finished\n",
            "[Parallel(n_jobs=2)]: Using backend ThreadingBackend with 2 concurrent workers.\n",
            "[Parallel(n_jobs=2)]: Done  10 out of  10 | elapsed:    0.0s finished\n"
          ]
        }
      ]
    },
    {
      "cell_type": "markdown",
      "metadata": {
        "id": "yvFIyv407bDk"
      },
      "source": [
        "Results"
      ]
    },
    {
      "cell_type": "code",
      "metadata": {
        "id": "esbt1kl77cKc",
        "colab": {
          "base_uri": "https://localhost:8080/",
          "height": 331
        },
        "outputId": "7b41e99c-3c82-46ec-891e-ed3d0cb7aba2"
      },
      "source": [
        "model_results_df = pd.DataFrame(model_results.items(), columns=[\"Model\",\"RMSE\"]).sort_values(\"RMSE\")\n",
        "model_results_df"
      ],
      "execution_count": 20,
      "outputs": [
        {
          "output_type": "execute_result",
          "data": {
            "text/html": [
              "<div>\n",
              "<style scoped>\n",
              "    .dataframe tbody tr th:only-of-type {\n",
              "        vertical-align: middle;\n",
              "    }\n",
              "\n",
              "    .dataframe tbody tr th {\n",
              "        vertical-align: top;\n",
              "    }\n",
              "\n",
              "    .dataframe thead th {\n",
              "        text-align: right;\n",
              "    }\n",
              "</style>\n",
              "<table border=\"1\" class=\"dataframe\">\n",
              "  <thead>\n",
              "    <tr style=\"text-align: right;\">\n",
              "      <th></th>\n",
              "      <th>Model</th>\n",
              "      <th>RMSE</th>\n",
              "    </tr>\n",
              "  </thead>\n",
              "  <tbody>\n",
              "    <tr>\n",
              "      <th>3</th>\n",
              "      <td>NuSVR</td>\n",
              "      <td>0.558959</td>\n",
              "    </tr>\n",
              "    <tr>\n",
              "      <th>6</th>\n",
              "      <td>Linear Regression</td>\n",
              "      <td>0.561843</td>\n",
              "    </tr>\n",
              "    <tr>\n",
              "      <th>4</th>\n",
              "      <td>Epsilon SVR</td>\n",
              "      <td>0.564504</td>\n",
              "    </tr>\n",
              "    <tr>\n",
              "      <th>2</th>\n",
              "      <td>Linear SVR</td>\n",
              "      <td>0.569636</td>\n",
              "    </tr>\n",
              "    <tr>\n",
              "      <th>0</th>\n",
              "      <td>BASELINE</td>\n",
              "      <td>0.578400</td>\n",
              "    </tr>\n",
              "    <tr>\n",
              "      <th>8</th>\n",
              "      <td>Random Forest</td>\n",
              "      <td>0.598627</td>\n",
              "    </tr>\n",
              "    <tr>\n",
              "      <th>5</th>\n",
              "      <td>K-Nearest Neighbors</td>\n",
              "      <td>0.632125</td>\n",
              "    </tr>\n",
              "    <tr>\n",
              "      <th>7</th>\n",
              "      <td>Decision Tree</td>\n",
              "      <td>0.807983</td>\n",
              "    </tr>\n",
              "    <tr>\n",
              "      <th>1</th>\n",
              "      <td>Logistic Regression</td>\n",
              "      <td>1.028253</td>\n",
              "    </tr>\n",
              "  </tbody>\n",
              "</table>\n",
              "</div>"
            ],
            "text/plain": [
              "                 Model      RMSE\n",
              "3                NuSVR  0.558959\n",
              "6    Linear Regression  0.561843\n",
              "4          Epsilon SVR  0.564504\n",
              "2           Linear SVR  0.569636\n",
              "0             BASELINE  0.578400\n",
              "8        Random Forest  0.598627\n",
              "5  K-Nearest Neighbors  0.632125\n",
              "7        Decision Tree  0.807983\n",
              "1  Logistic Regression  1.028253"
            ]
          },
          "metadata": {},
          "execution_count": 20
        }
      ]
    },
    {
      "cell_type": "markdown",
      "metadata": {
        "id": "k0rZvcdb7hSx"
      },
      "source": [
        "Visualization"
      ]
    },
    {
      "cell_type": "code",
      "metadata": {
        "id": "u7fsZOPJ7k7t",
        "colab": {
          "base_uri": "https://localhost:8080/",
          "height": 419
        },
        "outputId": "83a7b81b-22c4-4215-874c-094d19b71418"
      },
      "source": [
        "model_results_df = pd.DataFrame(model_results.items(), columns=[\"Model\",\"RMSE\"]).sort_values(\"RMSE\")\n",
        "\n",
        "ax = sns.barplot(x=\"Model\", y=\"RMSE\", data=model_results_df)\n",
        "plt.setp(ax.get_xticklabels(), rotation=90);\n",
        "plt.ylim(.5,.66);\n",
        "ax.xaxis.set_tick_params(labelsize=14)\n",
        "ax.yaxis.set_tick_params(labelsize=14)\n",
        "ax.set_xlabel('');\n",
        "ax.set_ylabel('RMSE', fontsize=15);\n",
        "ax.set_title(\"RMSE for Different Models\", fontsize=16);"
      ],
      "execution_count": 21,
      "outputs": [
        {
          "output_type": "display_data",
          "data": {
            "image/png": "[encoded data removed]",
            "text/plain": [
              "<Figure size 432x288 with 1 Axes>"
            ]
          },
          "metadata": {
            "needs_background": "light"
          }
        }
      ]
    },
    {
      "cell_type": "markdown",
      "metadata": {
        "id": "kx1zlpF8_E69"
      },
      "source": [
        "Acknowledgement:\n",
        "https://medium.com/@cselig/assessing-the-funniness-of-edited-news-headlines-3ec03056f29a"
      ]
    }
  ]
}